{
 "metadata": {
  "language_info": {
   "codemirror_mode": {
    "name": "ipython",
    "version": 3
   },
   "file_extension": ".py",
   "mimetype": "text/x-python",
   "name": "python",
   "nbconvert_exporter": "python",
   "pygments_lexer": "ipython3",
   "version": "3.6.10"
  },
  "orig_nbformat": 2,
  "kernelspec": {
   "name": "python3610jvsc74a57bd0148da36aeaaeee5b9dedfc64c59a888be63d249ef7e43f5878f7775d6033125e",
   "display_name": "Python 3.6.10 64-bit ('chimetorch': conda)"
  }
 },
 "nbformat": 4,
 "nbformat_minor": 2,
 "cells": [
  {
   "source": [
    "## Imports, load data frames"
   ],
   "cell_type": "markdown",
   "metadata": {}
  },
  {
   "cell_type": "code",
   "execution_count": 1,
   "metadata": {},
   "outputs": [],
   "source": [
    "import os\n",
    "import sys\n",
    "import numpy as np\n",
    "import pandas as pd \n",
    "import seaborn as sns\n",
    "import statsmodels.api as sm\n",
    "import matplotlib.pyplot as plt \n",
    "\n",
    "from tqdm import tqdm\n",
    "from scipy import stats\n",
    "\n",
    "pd.options.display.max_rows = 6"
   ]
  },
  {
   "cell_type": "code",
   "execution_count": 2,
   "metadata": {},
   "outputs": [],
   "source": [
    "path_df_preds_valid = os.path.join(os.path.dirname(os.getcwd()), 'data', 'df_preds_valid.pkl')\n",
    "path_df_preds_test = os.path.join(os.path.dirname(os.getcwd()), 'data', 'df_preds_test.pkl')\n",
    "path_df_RNA = os.path.join(os.path.dirname(os.getcwd()), 'data', 'df_RNA.pkl')"
   ]
  },
  {
   "cell_type": "code",
   "execution_count": 5,
   "metadata": {},
   "outputs": [
    {
     "output_type": "execute_result",
     "data": {
      "text/plain": [
       "              ENSG00000105617  ENSG00000166689  ENSG00000125746  \\\n",
       "case_id                                                           \n",
       "TCGA-TP-A8TT        17.475025        15.934995        17.116279   \n",
       "TCGA-G9-6373        18.243241        14.298609        16.862351   \n",
       "TCGA-G9-7523        17.374515        14.706684        16.647326   \n",
       "...                       ...              ...              ...   \n",
       "TCGA-YL-A8HJ        17.341757        15.989865        16.353393   \n",
       "TCGA-J4-A67O        19.209400        12.853956        17.339803   \n",
       "TCGA-HC-8261        17.553165        15.782158        17.691099   \n",
       "\n",
       "              ENSG00000070404  ENSG00000143952  ENSG00000031081  \\\n",
       "case_id                                                           \n",
       "TCGA-TP-A8TT        16.660525        18.047545        15.668776   \n",
       "TCGA-G9-6373        17.417446        17.650170        14.772373   \n",
       "TCGA-G9-7523        18.937475        17.209249        16.231369   \n",
       "...                       ...              ...              ...   \n",
       "TCGA-YL-A8HJ        18.217168        18.371946        16.181203   \n",
       "TCGA-J4-A67O        19.628194        17.643128        14.684106   \n",
       "TCGA-HC-8261        16.732170        18.353277        14.584752   \n",
       "\n",
       "              ENSG00000100393  ENSG00000172935  ENSG00000170265  \\\n",
       "case_id                                                           \n",
       "TCGA-TP-A8TT        18.284144        17.023658        18.359028   \n",
       "TCGA-G9-6373        17.570175        18.162526        18.297574   \n",
       "TCGA-G9-7523        17.775470        19.624456        17.773831   \n",
       "...                       ...              ...              ...   \n",
       "TCGA-YL-A8HJ        18.357379        19.113310        18.243282   \n",
       "TCGA-J4-A67O        15.564761        19.863612        18.244650   \n",
       "TCGA-HC-8261        18.215101        16.880560        18.263402   \n",
       "\n",
       "              ENSG00000183114  ...  ENSG00000254470  ENSG00000141526  \\\n",
       "case_id                        ...                                     \n",
       "TCGA-TP-A8TT        13.178665  ...        15.904443        14.888024   \n",
       "TCGA-G9-6373        13.310275  ...        15.612744        14.696204   \n",
       "TCGA-G9-7523        15.856179  ...        16.368649        15.894789   \n",
       "...                       ...  ...              ...              ...   \n",
       "TCGA-YL-A8HJ        14.120770  ...        16.365652        15.326465   \n",
       "TCGA-J4-A67O        14.261930  ...        16.320360        16.113856   \n",
       "TCGA-HC-8261        12.631499  ...        15.967499        14.323916   \n",
       "\n",
       "              ENSG00000165821  ENSG00000253710  ENSG00000106636  \\\n",
       "case_id                                                           \n",
       "TCGA-TP-A8TT        16.184739        14.915521        19.143003   \n",
       "TCGA-G9-6373        16.015639        14.016488        19.216377   \n",
       "TCGA-G9-7523        15.740430        13.883174        19.216896   \n",
       "...                       ...              ...              ...   \n",
       "TCGA-YL-A8HJ        16.216193        14.682623        18.935723   \n",
       "TCGA-J4-A67O        14.747832        12.966581        19.801184   \n",
       "TCGA-HC-8261        17.376181        14.092686        19.417387   \n",
       "\n",
       "              ENSG00000175309  ENSG00000197746  ENSG00000063978  \\\n",
       "case_id                                                           \n",
       "TCGA-TP-A8TT        16.737467        24.041137        17.664582   \n",
       "TCGA-G9-6373        16.076622        22.897875        17.527489   \n",
       "TCGA-G9-7523        16.604210        23.580150        17.775343   \n",
       "...                       ...              ...              ...   \n",
       "TCGA-YL-A8HJ        16.851533        23.197213        17.567383   \n",
       "TCGA-J4-A67O        16.443450        24.268569        16.693543   \n",
       "TCGA-HC-8261        16.804490        23.384318        17.518171   \n",
       "\n",
       "              ENSG00000144031  ENSG00000164197  \n",
       "case_id                                         \n",
       "TCGA-TP-A8TT        12.597095        15.654002  \n",
       "TCGA-G9-6373        12.547914        15.744659  \n",
       "TCGA-G9-7523        14.279468        16.520731  \n",
       "...                       ...              ...  \n",
       "TCGA-YL-A8HJ        13.892006        16.335766  \n",
       "TCGA-J4-A67O        14.544293        15.892415  \n",
       "TCGA-HC-8261        12.991904        15.307071  \n",
       "\n",
       "[370 rows x 15586 columns]"
      ],
      "text/html": "<div>\n<style scoped>\n    .dataframe tbody tr th:only-of-type {\n        vertical-align: middle;\n    }\n\n    .dataframe tbody tr th {\n        vertical-align: top;\n    }\n\n    .dataframe thead th {\n        text-align: right;\n    }\n</style>\n<table border=\"1\" class=\"dataframe\">\n  <thead>\n    <tr style=\"text-align: right;\">\n      <th></th>\n      <th>ENSG00000105617</th>\n      <th>ENSG00000166689</th>\n      <th>ENSG00000125746</th>\n      <th>ENSG00000070404</th>\n      <th>ENSG00000143952</th>\n      <th>ENSG00000031081</th>\n      <th>ENSG00000100393</th>\n      <th>ENSG00000172935</th>\n      <th>ENSG00000170265</th>\n      <th>ENSG00000183114</th>\n      <th>...</th>\n      <th>ENSG00000254470</th>\n      <th>ENSG00000141526</th>\n      <th>ENSG00000165821</th>\n      <th>ENSG00000253710</th>\n      <th>ENSG00000106636</th>\n      <th>ENSG00000175309</th>\n      <th>ENSG00000197746</th>\n      <th>ENSG00000063978</th>\n      <th>ENSG00000144031</th>\n      <th>ENSG00000164197</th>\n    </tr>\n    <tr>\n      <th>case_id</th>\n      <th></th>\n      <th></th>\n      <th></th>\n      <th></th>\n      <th></th>\n      <th></th>\n      <th></th>\n      <th></th>\n      <th></th>\n      <th></th>\n      <th></th>\n      <th></th>\n      <th></th>\n      <th></th>\n      <th></th>\n      <th></th>\n      <th></th>\n      <th></th>\n      <th></th>\n      <th></th>\n      <th></th>\n    </tr>\n  </thead>\n  <tbody>\n    <tr>\n      <th>TCGA-TP-A8TT</th>\n      <td>17.475025</td>\n      <td>15.934995</td>\n      <td>17.116279</td>\n      <td>16.660525</td>\n      <td>18.047545</td>\n      <td>15.668776</td>\n      <td>18.284144</td>\n      <td>17.023658</td>\n      <td>18.359028</td>\n      <td>13.178665</td>\n      <td>...</td>\n      <td>15.904443</td>\n      <td>14.888024</td>\n      <td>16.184739</td>\n      <td>14.915521</td>\n      <td>19.143003</td>\n      <td>16.737467</td>\n      <td>24.041137</td>\n      <td>17.664582</td>\n      <td>12.597095</td>\n      <td>15.654002</td>\n    </tr>\n    <tr>\n      <th>TCGA-G9-6373</th>\n      <td>18.243241</td>\n      <td>14.298609</td>\n      <td>16.862351</td>\n      <td>17.417446</td>\n      <td>17.650170</td>\n      <td>14.772373</td>\n      <td>17.570175</td>\n      <td>18.162526</td>\n      <td>18.297574</td>\n      <td>13.310275</td>\n      <td>...</td>\n      <td>15.612744</td>\n      <td>14.696204</td>\n      <td>16.015639</td>\n      <td>14.016488</td>\n      <td>19.216377</td>\n      <td>16.076622</td>\n      <td>22.897875</td>\n      <td>17.527489</td>\n      <td>12.547914</td>\n      <td>15.744659</td>\n    </tr>\n    <tr>\n      <th>TCGA-G9-7523</th>\n      <td>17.374515</td>\n      <td>14.706684</td>\n      <td>16.647326</td>\n      <td>18.937475</td>\n      <td>17.209249</td>\n      <td>16.231369</td>\n      <td>17.775470</td>\n      <td>19.624456</td>\n      <td>17.773831</td>\n      <td>15.856179</td>\n      <td>...</td>\n      <td>16.368649</td>\n      <td>15.894789</td>\n      <td>15.740430</td>\n      <td>13.883174</td>\n      <td>19.216896</td>\n      <td>16.604210</td>\n      <td>23.580150</td>\n      <td>17.775343</td>\n      <td>14.279468</td>\n      <td>16.520731</td>\n    </tr>\n    <tr>\n      <th>...</th>\n      <td>...</td>\n      <td>...</td>\n      <td>...</td>\n      <td>...</td>\n      <td>...</td>\n      <td>...</td>\n      <td>...</td>\n      <td>...</td>\n      <td>...</td>\n      <td>...</td>\n      <td>...</td>\n      <td>...</td>\n      <td>...</td>\n      <td>...</td>\n      <td>...</td>\n      <td>...</td>\n      <td>...</td>\n      <td>...</td>\n      <td>...</td>\n      <td>...</td>\n      <td>...</td>\n    </tr>\n    <tr>\n      <th>TCGA-YL-A8HJ</th>\n      <td>17.341757</td>\n      <td>15.989865</td>\n      <td>16.353393</td>\n      <td>18.217168</td>\n      <td>18.371946</td>\n      <td>16.181203</td>\n      <td>18.357379</td>\n      <td>19.113310</td>\n      <td>18.243282</td>\n      <td>14.120770</td>\n      <td>...</td>\n      <td>16.365652</td>\n      <td>15.326465</td>\n      <td>16.216193</td>\n      <td>14.682623</td>\n      <td>18.935723</td>\n      <td>16.851533</td>\n      <td>23.197213</td>\n      <td>17.567383</td>\n      <td>13.892006</td>\n      <td>16.335766</td>\n    </tr>\n    <tr>\n      <th>TCGA-J4-A67O</th>\n      <td>19.209400</td>\n      <td>12.853956</td>\n      <td>17.339803</td>\n      <td>19.628194</td>\n      <td>17.643128</td>\n      <td>14.684106</td>\n      <td>15.564761</td>\n      <td>19.863612</td>\n      <td>18.244650</td>\n      <td>14.261930</td>\n      <td>...</td>\n      <td>16.320360</td>\n      <td>16.113856</td>\n      <td>14.747832</td>\n      <td>12.966581</td>\n      <td>19.801184</td>\n      <td>16.443450</td>\n      <td>24.268569</td>\n      <td>16.693543</td>\n      <td>14.544293</td>\n      <td>15.892415</td>\n    </tr>\n    <tr>\n      <th>TCGA-HC-8261</th>\n      <td>17.553165</td>\n      <td>15.782158</td>\n      <td>17.691099</td>\n      <td>16.732170</td>\n      <td>18.353277</td>\n      <td>14.584752</td>\n      <td>18.215101</td>\n      <td>16.880560</td>\n      <td>18.263402</td>\n      <td>12.631499</td>\n      <td>...</td>\n      <td>15.967499</td>\n      <td>14.323916</td>\n      <td>17.376181</td>\n      <td>14.092686</td>\n      <td>19.417387</td>\n      <td>16.804490</td>\n      <td>23.384318</td>\n      <td>17.518171</td>\n      <td>12.991904</td>\n      <td>15.307071</td>\n    </tr>\n  </tbody>\n</table>\n<p>370 rows × 15586 columns</p>\n</div>"
     },
     "metadata": {},
     "execution_count": 5
    }
   ],
   "source": [
    "df_RNA = pd.read_pickle(path_df_RNA)\n",
    "df_RNA"
   ]
  },
  {
   "cell_type": "code",
   "execution_count": 9,
   "metadata": {},
   "outputs": [
    {
     "output_type": "execute_result",
     "data": {
      "text/plain": [
       "              ENSG00000166689  ENSG00000154723  ENSG00000176340  \\\n",
       "TCGA-HC-8265        15.780334        19.392090        22.260620   \n",
       "TCGA-KK-A8I8        15.099250        19.921850        22.994328   \n",
       "TCGA-KK-A6E0        14.520020        20.232100        23.412901   \n",
       "...                       ...              ...              ...   \n",
       "TCGA-H9-7775        15.767491        19.408110        22.292154   \n",
       "TCGA-QU-A6IP        15.189637        19.817003        22.843119   \n",
       "TCGA-EJ-5497        15.713150        19.445921        22.343649   \n",
       "\n",
       "              ENSG00000127884  ENSG00000181817  ENSG00000101745  \\\n",
       "TCGA-HC-8265        21.383165        18.207211        16.706352   \n",
       "TCGA-KK-A8I8        22.010466        18.868731        16.198122   \n",
       "TCGA-KK-A6E0        22.382891        19.272038        15.935408   \n",
       "...                       ...              ...              ...   \n",
       "TCGA-H9-7775        21.441214        18.233484        16.675200   \n",
       "TCGA-QU-A6IP        21.898649        18.731188        16.324835   \n",
       "TCGA-EJ-5497        21.487778        18.278938        16.642639   \n",
       "\n",
       "              ENSG00000116984  ENSG00000116898  ENSG00000042753  \\\n",
       "TCGA-HC-8265        16.525040        18.479809        19.822748   \n",
       "TCGA-KK-A8I8        16.013815        19.150490        20.690859   \n",
       "TCGA-KK-A6E0        15.696981        19.568258        21.203753   \n",
       "...                       ...              ...              ...   \n",
       "TCGA-H9-7775        16.482498        18.505625        19.840260   \n",
       "TCGA-QU-A6IP        16.118435        19.036512        20.550770   \n",
       "TCGA-EJ-5497        16.449430        18.552784        19.908121   \n",
       "\n",
       "              ENSG00000183978  ...  ENSG00000163297  ENSG00000186115  \\\n",
       "TCGA-HC-8265        19.291666  ...        18.653589        11.950773   \n",
       "TCGA-KK-A8I8        20.038363  ...        18.573715        12.604863   \n",
       "TCGA-KK-A6E0        20.465145  ...        18.613865        12.066567   \n",
       "...                       ...  ...              ...              ...   \n",
       "TCGA-H9-7775        19.327078  ...        18.569510        11.867886   \n",
       "TCGA-QU-A6IP        19.901579  ...        18.504038        12.138799   \n",
       "TCGA-EJ-5497        19.383568  ...        18.561647        11.836742   \n",
       "\n",
       "              ENSG00000100605  ENSG00000006740  ENSG00000151364  \\\n",
       "TCGA-HC-8265        18.388218        15.187820        14.193930   \n",
       "TCGA-KK-A8I8        18.332781        15.164225        14.096538   \n",
       "TCGA-KK-A6E0        18.372780        15.180278        14.175728   \n",
       "...                       ...              ...              ...   \n",
       "TCGA-H9-7775        18.382975        15.198627        14.148224   \n",
       "TCGA-QU-A6IP        18.305506        15.170304        14.040937   \n",
       "TCGA-EJ-5497        18.370424        15.188750        14.137133   \n",
       "\n",
       "              ENSG00000163141  ENSG00000134202  ENSG00000271447  \\\n",
       "TCGA-HC-8265        14.379480        17.089825        15.149554   \n",
       "TCGA-KK-A8I8        14.409473        16.990265        15.066300   \n",
       "TCGA-KK-A6E0        14.408656        17.049541        15.120800   \n",
       "...                       ...              ...              ...   \n",
       "TCGA-H9-7775        14.341125        17.077183        15.182588   \n",
       "TCGA-QU-A6IP        14.270376        16.971842        15.005050   \n",
       "TCGA-EJ-5497        14.323009        17.056334        15.144830   \n",
       "\n",
       "              ENSG00000086730  ENSG00000184454  \n",
       "TCGA-HC-8265        16.073866        13.640875  \n",
       "TCGA-KK-A8I8        16.009480        13.616820  \n",
       "TCGA-KK-A6E0        16.039997        13.610471  \n",
       "...                       ...              ...  \n",
       "TCGA-H9-7775        16.078325        13.521324  \n",
       "TCGA-QU-A6IP        15.996470        13.409616  \n",
       "TCGA-EJ-5497        16.054693        13.505647  \n",
       "\n",
       "[278 rows x 651 columns]"
      ],
      "text/html": "<div>\n<style scoped>\n    .dataframe tbody tr th:only-of-type {\n        vertical-align: middle;\n    }\n\n    .dataframe tbody tr th {\n        vertical-align: top;\n    }\n\n    .dataframe thead th {\n        text-align: right;\n    }\n</style>\n<table border=\"1\" class=\"dataframe\">\n  <thead>\n    <tr style=\"text-align: right;\">\n      <th></th>\n      <th>ENSG00000166689</th>\n      <th>ENSG00000154723</th>\n      <th>ENSG00000176340</th>\n      <th>ENSG00000127884</th>\n      <th>ENSG00000181817</th>\n      <th>ENSG00000101745</th>\n      <th>ENSG00000116984</th>\n      <th>ENSG00000116898</th>\n      <th>ENSG00000042753</th>\n      <th>ENSG00000183978</th>\n      <th>...</th>\n      <th>ENSG00000163297</th>\n      <th>ENSG00000186115</th>\n      <th>ENSG00000100605</th>\n      <th>ENSG00000006740</th>\n      <th>ENSG00000151364</th>\n      <th>ENSG00000163141</th>\n      <th>ENSG00000134202</th>\n      <th>ENSG00000271447</th>\n      <th>ENSG00000086730</th>\n      <th>ENSG00000184454</th>\n    </tr>\n  </thead>\n  <tbody>\n    <tr>\n      <th>TCGA-HC-8265</th>\n      <td>15.780334</td>\n      <td>19.392090</td>\n      <td>22.260620</td>\n      <td>21.383165</td>\n      <td>18.207211</td>\n      <td>16.706352</td>\n      <td>16.525040</td>\n      <td>18.479809</td>\n      <td>19.822748</td>\n      <td>19.291666</td>\n      <td>...</td>\n      <td>18.653589</td>\n      <td>11.950773</td>\n      <td>18.388218</td>\n      <td>15.187820</td>\n      <td>14.193930</td>\n      <td>14.379480</td>\n      <td>17.089825</td>\n      <td>15.149554</td>\n      <td>16.073866</td>\n      <td>13.640875</td>\n    </tr>\n    <tr>\n      <th>TCGA-KK-A8I8</th>\n      <td>15.099250</td>\n      <td>19.921850</td>\n      <td>22.994328</td>\n      <td>22.010466</td>\n      <td>18.868731</td>\n      <td>16.198122</td>\n      <td>16.013815</td>\n      <td>19.150490</td>\n      <td>20.690859</td>\n      <td>20.038363</td>\n      <td>...</td>\n      <td>18.573715</td>\n      <td>12.604863</td>\n      <td>18.332781</td>\n      <td>15.164225</td>\n      <td>14.096538</td>\n      <td>14.409473</td>\n      <td>16.990265</td>\n      <td>15.066300</td>\n      <td>16.009480</td>\n      <td>13.616820</td>\n    </tr>\n    <tr>\n      <th>TCGA-KK-A6E0</th>\n      <td>14.520020</td>\n      <td>20.232100</td>\n      <td>23.412901</td>\n      <td>22.382891</td>\n      <td>19.272038</td>\n      <td>15.935408</td>\n      <td>15.696981</td>\n      <td>19.568258</td>\n      <td>21.203753</td>\n      <td>20.465145</td>\n      <td>...</td>\n      <td>18.613865</td>\n      <td>12.066567</td>\n      <td>18.372780</td>\n      <td>15.180278</td>\n      <td>14.175728</td>\n      <td>14.408656</td>\n      <td>17.049541</td>\n      <td>15.120800</td>\n      <td>16.039997</td>\n      <td>13.610471</td>\n    </tr>\n    <tr>\n      <th>...</th>\n      <td>...</td>\n      <td>...</td>\n      <td>...</td>\n      <td>...</td>\n      <td>...</td>\n      <td>...</td>\n      <td>...</td>\n      <td>...</td>\n      <td>...</td>\n      <td>...</td>\n      <td>...</td>\n      <td>...</td>\n      <td>...</td>\n      <td>...</td>\n      <td>...</td>\n      <td>...</td>\n      <td>...</td>\n      <td>...</td>\n      <td>...</td>\n      <td>...</td>\n      <td>...</td>\n    </tr>\n    <tr>\n      <th>TCGA-H9-7775</th>\n      <td>15.767491</td>\n      <td>19.408110</td>\n      <td>22.292154</td>\n      <td>21.441214</td>\n      <td>18.233484</td>\n      <td>16.675200</td>\n      <td>16.482498</td>\n      <td>18.505625</td>\n      <td>19.840260</td>\n      <td>19.327078</td>\n      <td>...</td>\n      <td>18.569510</td>\n      <td>11.867886</td>\n      <td>18.382975</td>\n      <td>15.198627</td>\n      <td>14.148224</td>\n      <td>14.341125</td>\n      <td>17.077183</td>\n      <td>15.182588</td>\n      <td>16.078325</td>\n      <td>13.521324</td>\n    </tr>\n    <tr>\n      <th>TCGA-QU-A6IP</th>\n      <td>15.189637</td>\n      <td>19.817003</td>\n      <td>22.843119</td>\n      <td>21.898649</td>\n      <td>18.731188</td>\n      <td>16.324835</td>\n      <td>16.118435</td>\n      <td>19.036512</td>\n      <td>20.550770</td>\n      <td>19.901579</td>\n      <td>...</td>\n      <td>18.504038</td>\n      <td>12.138799</td>\n      <td>18.305506</td>\n      <td>15.170304</td>\n      <td>14.040937</td>\n      <td>14.270376</td>\n      <td>16.971842</td>\n      <td>15.005050</td>\n      <td>15.996470</td>\n      <td>13.409616</td>\n    </tr>\n    <tr>\n      <th>TCGA-EJ-5497</th>\n      <td>15.713150</td>\n      <td>19.445921</td>\n      <td>22.343649</td>\n      <td>21.487778</td>\n      <td>18.278938</td>\n      <td>16.642639</td>\n      <td>16.449430</td>\n      <td>18.552784</td>\n      <td>19.908121</td>\n      <td>19.383568</td>\n      <td>...</td>\n      <td>18.561647</td>\n      <td>11.836742</td>\n      <td>18.370424</td>\n      <td>15.188750</td>\n      <td>14.137133</td>\n      <td>14.323009</td>\n      <td>17.056334</td>\n      <td>15.144830</td>\n      <td>16.054693</td>\n      <td>13.505647</td>\n    </tr>\n  </tbody>\n</table>\n<p>278 rows × 651 columns</p>\n</div>"
     },
     "metadata": {},
     "execution_count": 9
    }
   ],
   "source": [
    "# Load predictions, select correct columns, rename columns to ensembl ids\n",
    "df_preds_test = pd.read_pickle(path_df_preds_test)\n",
    "df_preds_valid = pd.read_pickle(path_df_preds_valid)\n",
    "cols_mean = [col for col in df_preds_valid.columns if col.endswith('_mean')]\n",
    "df_preds_valid = df_preds_valid[cols_mean]\n",
    "df_preds_test = df_preds_test[cols_mean]\n",
    "df_preds_valid.columns = [col.split('_')[0] for col in df_preds_valid.columns]\n",
    "df_preds_test.columns = [col.split('_')[0] for col in df_preds_test.columns]\n",
    "df_preds_valid"
   ]
  },
  {
   "source": [
    "## Compute Spearman correlations for validation data, compute BH-adjusted p-values"
   ],
   "cell_type": "markdown",
   "metadata": {}
  },
  {
   "cell_type": "code",
   "execution_count": 12,
   "metadata": {},
   "outputs": [
    {
     "output_type": "stream",
     "name": "stderr",
     "text": [
      "100%|██████████| 651/651 [00:00<00:00, 1096.77it/s]\n"
     ]
    },
    {
     "output_type": "execute_result",
     "data": {
      "text/plain": [
       "                gene      corr             p\n",
       "204  ENSG00000166046  0.608952  1.332426e-29\n",
       "144  ENSG00000145494  0.602006  8.422522e-29\n",
       "431  ENSG00000125995  0.586008  4.980646e-27\n",
       "..               ...       ...           ...\n",
       "625  ENSG00000259171 -0.121280  4.333193e-02\n",
       "569  ENSG00000099812 -0.133213  2.635043e-02\n",
       "602  ENSG00000091262 -0.138360  2.101919e-02\n",
       "\n",
       "[651 rows x 3 columns]"
      ],
      "text/html": "<div>\n<style scoped>\n    .dataframe tbody tr th:only-of-type {\n        vertical-align: middle;\n    }\n\n    .dataframe tbody tr th {\n        vertical-align: top;\n    }\n\n    .dataframe thead th {\n        text-align: right;\n    }\n</style>\n<table border=\"1\" class=\"dataframe\">\n  <thead>\n    <tr style=\"text-align: right;\">\n      <th></th>\n      <th>gene</th>\n      <th>corr</th>\n      <th>p</th>\n    </tr>\n  </thead>\n  <tbody>\n    <tr>\n      <th>204</th>\n      <td>ENSG00000166046</td>\n      <td>0.608952</td>\n      <td>1.332426e-29</td>\n    </tr>\n    <tr>\n      <th>144</th>\n      <td>ENSG00000145494</td>\n      <td>0.602006</td>\n      <td>8.422522e-29</td>\n    </tr>\n    <tr>\n      <th>431</th>\n      <td>ENSG00000125995</td>\n      <td>0.586008</td>\n      <td>4.980646e-27</td>\n    </tr>\n    <tr>\n      <th>...</th>\n      <td>...</td>\n      <td>...</td>\n      <td>...</td>\n    </tr>\n    <tr>\n      <th>625</th>\n      <td>ENSG00000259171</td>\n      <td>-0.121280</td>\n      <td>4.333193e-02</td>\n    </tr>\n    <tr>\n      <th>569</th>\n      <td>ENSG00000099812</td>\n      <td>-0.133213</td>\n      <td>2.635043e-02</td>\n    </tr>\n    <tr>\n      <th>602</th>\n      <td>ENSG00000091262</td>\n      <td>-0.138360</td>\n      <td>2.101919e-02</td>\n    </tr>\n  </tbody>\n</table>\n<p>651 rows × 3 columns</p>\n</div>"
     },
     "metadata": {},
     "execution_count": 12
    }
   ],
   "source": [
    "# Iterate through genes, compute correlations\n",
    "df_RNA_valid = df_RNA.loc[df_preds_valid.index]\n",
    "l_spear = list()\n",
    "l_p = list()\n",
    "for gene in tqdm(df_preds_valid.columns):\n",
    "        vals_tmp = stats.spearmanr(df_preds_valid[gene].values, df_RNA_valid[gene].values)\n",
    "        l_spear.append(vals_tmp.correlation)\n",
    "        l_p.append(vals_tmp.pvalue)\n",
    "df_results_valid = pd.DataFrame()\n",
    "df_results_valid['gene'] = df_preds_valid.columns\n",
    "df_results_valid['corr'] = l_spear\n",
    "df_results_valid['p'] = l_p\n",
    "df_results_valid.sort_values(by='corr', ascending=False)"
   ]
  },
  {
   "cell_type": "code",
   "execution_count": 26,
   "metadata": {},
   "outputs": [
    {
     "output_type": "stream",
     "name": "stdout",
     "text": [
      "Number of genes for which null can be rejected:  430\nSmallest positive significant Spearman correlation:  0.238815911286343\n"
     ]
    },
    {
     "output_type": "execute_result",
     "data": {
      "text/plain": [
       "                gene      corr             p          p_bh\n",
       "204  ENSG00000166046  0.608952  1.332426e-29  8.674093e-27\n",
       "144  ENSG00000145494  0.602006  8.422522e-29  2.741531e-26\n",
       "431  ENSG00000125995  0.586008  4.980646e-27  1.080800e-24\n",
       "..               ...       ...           ...           ...\n",
       "625  ENSG00000259171 -0.121280  4.333193e-02  5.597041e-02\n",
       "569  ENSG00000099812 -0.133213  2.635043e-02  3.486611e-02\n",
       "602  ENSG00000091262 -0.138360  2.101919e-02  2.827169e-02\n",
       "\n",
       "[651 rows x 4 columns]"
      ],
      "text/html": "<div>\n<style scoped>\n    .dataframe tbody tr th:only-of-type {\n        vertical-align: middle;\n    }\n\n    .dataframe tbody tr th {\n        vertical-align: top;\n    }\n\n    .dataframe thead th {\n        text-align: right;\n    }\n</style>\n<table border=\"1\" class=\"dataframe\">\n  <thead>\n    <tr style=\"text-align: right;\">\n      <th></th>\n      <th>gene</th>\n      <th>corr</th>\n      <th>p</th>\n      <th>p_bh</th>\n    </tr>\n  </thead>\n  <tbody>\n    <tr>\n      <th>204</th>\n      <td>ENSG00000166046</td>\n      <td>0.608952</td>\n      <td>1.332426e-29</td>\n      <td>8.674093e-27</td>\n    </tr>\n    <tr>\n      <th>144</th>\n      <td>ENSG00000145494</td>\n      <td>0.602006</td>\n      <td>8.422522e-29</td>\n      <td>2.741531e-26</td>\n    </tr>\n    <tr>\n      <th>431</th>\n      <td>ENSG00000125995</td>\n      <td>0.586008</td>\n      <td>4.980646e-27</td>\n      <td>1.080800e-24</td>\n    </tr>\n    <tr>\n      <th>...</th>\n      <td>...</td>\n      <td>...</td>\n      <td>...</td>\n      <td>...</td>\n    </tr>\n    <tr>\n      <th>625</th>\n      <td>ENSG00000259171</td>\n      <td>-0.121280</td>\n      <td>4.333193e-02</td>\n      <td>5.597041e-02</td>\n    </tr>\n    <tr>\n      <th>569</th>\n      <td>ENSG00000099812</td>\n      <td>-0.133213</td>\n      <td>2.635043e-02</td>\n      <td>3.486611e-02</td>\n    </tr>\n    <tr>\n      <th>602</th>\n      <td>ENSG00000091262</td>\n      <td>-0.138360</td>\n      <td>2.101919e-02</td>\n      <td>2.827169e-02</td>\n    </tr>\n  </tbody>\n</table>\n<p>651 rows × 4 columns</p>\n</div>"
     },
     "metadata": {},
     "execution_count": 26
    }
   ],
   "source": [
    "# Correct p-values for multiple testing with Benjamini-Hochberg method\n",
    "reject, p_corrected, _, _ = sm.stats.multipletests(df_results_valid['p'].values, alpha=0.0001, method='fdr_bh')\n",
    "df_results_valid['p_bh'] = p_corrected\n",
    "print('Number of genes for which null can be rejected: ', sum(reject))\n",
    "df_valid_tmp = df_results_valid.loc[reject & (df_results_valid['corr']>0)]\n",
    "genes_sig = df_valid_tmp['gene'].values\n",
    "print('Smallest positive significant Spearman correlation: ', df_valid_tmp['corr'].min())\n",
    "df_results_valid.sort_values(by='corr', ascending=False)"
   ]
  },
  {
   "source": [
    "## For transcripts that meet the significance threshold in the validation data, compute correlations in the test data"
   ],
   "cell_type": "markdown",
   "metadata": {}
  },
  {
   "cell_type": "code",
   "execution_count": 27,
   "metadata": {},
   "outputs": [
    {
     "output_type": "stream",
     "name": "stderr",
     "text": [
      "100%|██████████| 430/430 [00:00<00:00, 1084.40it/s]\n"
     ]
    },
    {
     "output_type": "execute_result",
     "data": {
      "text/plain": [
       "                gene      corr             p\n",
       "241  ENSG00000172428  0.625048  2.744710e-11\n",
       "272  ENSG00000110711  0.618745  4.926527e-11\n",
       "255  ENSG00000123144  0.614059  7.546189e-11\n",
       "..               ...       ...           ...\n",
       "240  ENSG00000163528  0.195583  6.170593e-02\n",
       "305  ENSG00000111641  0.170229  1.047340e-01\n",
       "24   ENSG00000091656  0.164650  1.167875e-01\n",
       "\n",
       "[430 rows x 3 columns]"
      ],
      "text/html": "<div>\n<style scoped>\n    .dataframe tbody tr th:only-of-type {\n        vertical-align: middle;\n    }\n\n    .dataframe tbody tr th {\n        vertical-align: top;\n    }\n\n    .dataframe thead th {\n        text-align: right;\n    }\n</style>\n<table border=\"1\" class=\"dataframe\">\n  <thead>\n    <tr style=\"text-align: right;\">\n      <th></th>\n      <th>gene</th>\n      <th>corr</th>\n      <th>p</th>\n    </tr>\n  </thead>\n  <tbody>\n    <tr>\n      <th>241</th>\n      <td>ENSG00000172428</td>\n      <td>0.625048</td>\n      <td>2.744710e-11</td>\n    </tr>\n    <tr>\n      <th>272</th>\n      <td>ENSG00000110711</td>\n      <td>0.618745</td>\n      <td>4.926527e-11</td>\n    </tr>\n    <tr>\n      <th>255</th>\n      <td>ENSG00000123144</td>\n      <td>0.614059</td>\n      <td>7.546189e-11</td>\n    </tr>\n    <tr>\n      <th>...</th>\n      <td>...</td>\n      <td>...</td>\n      <td>...</td>\n    </tr>\n    <tr>\n      <th>240</th>\n      <td>ENSG00000163528</td>\n      <td>0.195583</td>\n      <td>6.170593e-02</td>\n    </tr>\n    <tr>\n      <th>305</th>\n      <td>ENSG00000111641</td>\n      <td>0.170229</td>\n      <td>1.047340e-01</td>\n    </tr>\n    <tr>\n      <th>24</th>\n      <td>ENSG00000091656</td>\n      <td>0.164650</td>\n      <td>1.167875e-01</td>\n    </tr>\n  </tbody>\n</table>\n<p>430 rows × 3 columns</p>\n</div>"
     },
     "metadata": {},
     "execution_count": 27
    }
   ],
   "source": [
    "# Iterate through genes, compute correlations\n",
    "df_RNA_test = df_RNA.loc[df_preds_test.index]\n",
    "l_spear = list()\n",
    "l_p = list()\n",
    "for gene in tqdm(genes_sig):\n",
    "        vals_tmp = stats.spearmanr(df_preds_test[gene].values, df_RNA_test[gene].values)\n",
    "        l_spear.append(vals_tmp.correlation)\n",
    "        l_p.append(vals_tmp.pvalue)\n",
    "df_results_test = pd.DataFrame()\n",
    "df_results_test['gene'] = genes_sig\n",
    "df_results_test['corr'] = l_spear\n",
    "df_results_test['p'] = l_p\n",
    "df_results_test.sort_values(by='corr', ascending=False)"
   ]
  },
  {
   "cell_type": "code",
   "execution_count": 28,
   "metadata": {},
   "outputs": [
    {
     "output_type": "stream",
     "name": "stdout",
     "text": [
      "Number of genes for which null can be rejected:  422\nSmallest positive significant Spearman correlation:  0.238815911286343\n"
     ]
    },
    {
     "output_type": "execute_result",
     "data": {
      "text/plain": [
       "                gene      corr             p          p_bh\n",
       "241  ENSG00000172428  0.625048  2.744710e-11  8.283136e-09\n",
       "272  ENSG00000110711  0.618745  4.926527e-11  8.283136e-09\n",
       "255  ENSG00000123144  0.614059  7.546189e-11  8.283136e-09\n",
       "..               ...       ...           ...           ...\n",
       "240  ENSG00000163528  0.195583  6.170593e-02  6.199428e-02\n",
       "305  ENSG00000111641  0.170229  1.047340e-01  1.049781e-01\n",
       "24   ENSG00000091656  0.164650  1.167875e-01  1.167875e-01\n",
       "\n",
       "[430 rows x 4 columns]"
      ],
      "text/html": "<div>\n<style scoped>\n    .dataframe tbody tr th:only-of-type {\n        vertical-align: middle;\n    }\n\n    .dataframe tbody tr th {\n        vertical-align: top;\n    }\n\n    .dataframe thead th {\n        text-align: right;\n    }\n</style>\n<table border=\"1\" class=\"dataframe\">\n  <thead>\n    <tr style=\"text-align: right;\">\n      <th></th>\n      <th>gene</th>\n      <th>corr</th>\n      <th>p</th>\n      <th>p_bh</th>\n    </tr>\n  </thead>\n  <tbody>\n    <tr>\n      <th>241</th>\n      <td>ENSG00000172428</td>\n      <td>0.625048</td>\n      <td>2.744710e-11</td>\n      <td>8.283136e-09</td>\n    </tr>\n    <tr>\n      <th>272</th>\n      <td>ENSG00000110711</td>\n      <td>0.618745</td>\n      <td>4.926527e-11</td>\n      <td>8.283136e-09</td>\n    </tr>\n    <tr>\n      <th>255</th>\n      <td>ENSG00000123144</td>\n      <td>0.614059</td>\n      <td>7.546189e-11</td>\n      <td>8.283136e-09</td>\n    </tr>\n    <tr>\n      <th>...</th>\n      <td>...</td>\n      <td>...</td>\n      <td>...</td>\n      <td>...</td>\n    </tr>\n    <tr>\n      <th>240</th>\n      <td>ENSG00000163528</td>\n      <td>0.195583</td>\n      <td>6.170593e-02</td>\n      <td>6.199428e-02</td>\n    </tr>\n    <tr>\n      <th>305</th>\n      <td>ENSG00000111641</td>\n      <td>0.170229</td>\n      <td>1.047340e-01</td>\n      <td>1.049781e-01</td>\n    </tr>\n    <tr>\n      <th>24</th>\n      <td>ENSG00000091656</td>\n      <td>0.164650</td>\n      <td>1.167875e-01</td>\n      <td>1.167875e-01</td>\n    </tr>\n  </tbody>\n</table>\n<p>430 rows × 4 columns</p>\n</div>"
     },
     "metadata": {},
     "execution_count": 28
    }
   ],
   "source": [
    "# Correct p-values for multiple testing with Benjamini-Hochberg method\n",
    "reject, p_corrected, _, _ = sm.stats.multipletests(df_results_test['p'].values, alpha=0.01, method='fdr_bh')\n",
    "df_results_test['p_bh'] = p_corrected\n",
    "print('Number of genes for which null can be rejected: ', sum(reject))\n",
    "df_test_tmp = df_results_test.loc[reject & (df_results_test['corr']>0)]\n",
    "print('Smallest positive significant Spearman correlation: ', df_valid_tmp['corr'].min())\n",
    "df_results_test.sort_values(by='corr', ascending=False)"
   ]
  }
 ]
}